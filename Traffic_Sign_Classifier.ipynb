{
 "cells": [
  {
   "cell_type": "markdown",
   "metadata": {},
   "source": [
    "# Self-Driving Car Engineer Nanodegree\n",
    "\n",
    "## Deep Learning\n",
    "\n",
    "## Project: Build a Traffic Sign Recognition Classifier\n",
    "\n",
    "In this notebook, a template is provided for you to implement your functionality in stages, which is required to successfully complete this project. If additional code is required that cannot be included in the notebook, be sure that the Python code is successfully imported and included in your submission if necessary. \n",
    "\n",
    "> **Note**: Once you have completed all of the code implementations, you need to finalize your work by exporting the iPython Notebook as an HTML document. Before exporting the notebook to html, all of the code cells need to have been run so that reviewers can see the final implementation and output. You can then export the notebook by using the menu above and navigating to  \\n\",\n",
    "    \"**File -> Download as -> HTML (.html)**. Include the finished document along with this notebook as your submission. \n",
    "\n",
    "In addition to implementing code, there is a writeup to complete. The writeup should be completed in a separate file, which can be either a markdown file or a pdf document. There is a [write up template](https://github.com/udacity/CarND-Traffic-Sign-Classifier-Project/blob/master/writeup_template.md) that can be used to guide the writing process. Completing the code template and writeup template will cover all of the [rubric points](https://review.udacity.com/#!/rubrics/481/view) for this project.\n",
    "\n",
    "The [rubric](https://review.udacity.com/#!/rubrics/481/view) contains \"Stand Out Suggestions\" for enhancing the project beyond the minimum requirements. The stand out suggestions are optional. If you decide to pursue the \"stand out suggestions\", you can include the code in this Ipython notebook and also discuss the results in the writeup file.\n",
    "\n",
    "\n",
    ">**Note:** Code and Markdown cells can be executed using the **Shift + Enter** keyboard shortcut. In addition, Markdown cells can be edited by typically double-clicking the cell to enter edit mode."
   ]
  },
  {
   "cell_type": "markdown",
   "metadata": {},
   "source": [
    "---\n",
    "## Step 0: Load The Data"
   ]
  },
  {
   "cell_type": "code",
   "execution_count": 62,
   "metadata": {},
   "outputs": [],
   "source": [
    "# Load pickled data, csvsignnames, sklearn and numpy\n",
    "import pickle\n",
    "import random\n",
    "import csv\n",
    "from sklearn.model_selection import train_test_split\n",
    "import numpy as np\n",
    "from scipy import ndimage\n",
    "from numpy import newaxis\n",
    "Shift=0;\n",
    "import cv2\n",
    "import matplotlib.pyplot as plt\n",
    "import random\n",
    "import numpy as np\n",
    "from scipy import ndimage\n",
    "# Visualizations will be shown in the notebook.\n",
    "%matplotlib inline\n",
    "\n",
    "def shift_augment(x,shiftval,y):\n",
    "     \n",
    "        I=ndimage.shift(x,[0,shiftval,0], order=3, mode='reflect')\n",
    "        np.concatenate((trainX,I[newaxis,:]),axis=0)\n",
    "        np.append(trainY,y)\n",
    "        I=ndimage.shift(x,[0,-shiftval,0], order=3, mode='reflect')\n",
    "        np.concatenate((trainX,I[newaxis,:]),axis=0)\n",
    "        np.append(trainY,y)\n",
    "        I=ndimage.shift(x,[shiftval,0,0], order=3, mode='reflect')\n",
    "        np.concatenate((trainX,I[newaxis,:]),axis=0)\n",
    "        np.append(trainY,y)\n",
    "        I=ndimage.shift(x,[-shiftval,0,0], order=3, mode='reflect')\n",
    "        np.concatenate((trainX,I[newaxis,:]),axis=0)\n",
    "        np.append(trainY,y)\n",
    "        return\n",
    "\n",
    "    # Resize images using coordinates data\n",
    "def resize(features,labels,coord,size):\n",
    "    f=np.zeros((0,32,32,3));\n",
    "    for t in range(len(labels)):\n",
    "        print(t)\n",
    "        newcx=[ np.ceil(coord[t][0]*32/size[t][0]),\n",
    "                np.ceil(coord[t][1]*32/size[t][1]),\n",
    "                np.ceil(coord[t][2]*32/size[t][0]), \n",
    "                np.ceil(coord[t][3]*32/size[t][1])]\n",
    "        for i in range(len(newcx)):\n",
    "            newcx[i]=np.int(newcx[i])\n",
    "\n",
    "        I=features[t]\n",
    "       \n",
    "        I=I[newcx[0]:newcx[2], newcx[1]:newcx[3], :]\n",
    "        resized = cv2.resize(I, (32,32), interpolation = cv2.INTER_AREA)\n",
    "       \n",
    "        resized=resized[newaxis,:,:,:]\n",
    "        \n",
    "        f=np.concatenate((f,resized),axis=0)\n",
    "    return (f,labels)   \n",
    "\n",
    "    \n",
    "# Import training, validation and testing data\n",
    "\n",
    "training_file = './data/train.p'\n",
    "validation_file='./data/valid.p'\n",
    "testing_file = './data/test.p'\n",
    "\n",
    "with open(training_file, mode='rb') as f:\n",
    "    train = pickle.load(f)\n",
    "with open(validation_file, mode='rb') as f:\n",
    "    valid = pickle.load(f)\n",
    "with open(testing_file, mode='rb') as f:\n",
    "    test = pickle.load(f)\n",
    "   \n",
    "    \n",
    "X_trainp, y_trainp, X_trainc,X_trains = train['features'], train['labels'],train['coords'],train['sizes']\n",
    "#X_trainp, y_trainp = resize(X_trainp, y_trainp, X_trainc,X_trains)\n",
    "\n",
    "X_validp, y_validp, X_validc,X_valids  = valid['features'], valid['labels'],valid['coords'],valid['sizes']\n",
    "#X_validp, y_validp,  = resize(X_validp, y_validp, X_validc,X_valids)\n",
    "\n",
    "X_test, y_test, X_testc,X_tests = test['features'], test['labels'],test['coords'],test['sizes']\n",
    "#X_test, y_test = resize(X_test, y_test, X_testc,X_tests);\n",
    "\n",
    "\n",
    "# Recombine the train and validation files to regenerate a 20% validation split.\n",
    "\n",
    "trainX = np.concatenate((X_trainp,X_validp), axis=0)\n",
    "trainY = np.concatenate((y_trainp,y_validp), axis=0)\n",
    "\n",
    "\n",
    "if(Shift):\n",
    "\n",
    "    # Augment training set by shifting images (10% of each class)\n",
    "    B=trainY\n",
    "    for c in range(43):\n",
    "       \n",
    "        Class_img_ind=[index for index, value in enumerate(B) if value == c]\n",
    "        img_ind=random.sample(Class_img_ind,np.int(0.03*len(Class_img_ind)))\n",
    "        count=1\n",
    "        for i in img_ind:\n",
    "             shift_augment(trainX[i],3,trainY[i])\n",
    "\n",
    "# 20% validation split\n",
    "X_train, X_valid, y_train, y_valid = train_test_split(trainX,trainY,test_size=0.2,random_state=0)\n",
    "\n",
    "\n",
    "# Check data integrity\n",
    "assert(len(X_train) == len(y_train))\n",
    "assert(len(X_valid) == len(y_valid))\n",
    "assert(len(X_test)  == len(y_test))\n",
    "\n",
    "\n",
    "\n",
    "\n",
    "\n"
   ]
  },
  {
   "cell_type": "code",
   "execution_count": 63,
   "metadata": {},
   "outputs": [],
   "source": [
    "with open('dat.pickle', 'wb') as f:\n",
    "    pickle.dump([X_train, y_train, X_valid, y_valid], f)\n",
    "\n"
   ]
  },
  {
   "cell_type": "code",
   "execution_count": 64,
   "metadata": {},
   "outputs": [],
   "source": [
    "with open('dat.pickle', 'rb') as f:\n",
    "    X_train, y_train,X_valid, y_valid = pickle.load(f)"
   ]
  },
  {
   "cell_type": "markdown",
   "metadata": {},
   "source": [
    "---\n",
    "\n",
    "## Step 1: Dataset Summary & Exploration\n",
    "\n",
    "The pickled data is a dictionary with 4 key/value pairs:\n",
    "\n",
    "- `'features'` is a 4D array containing raw pixel data of the traffic sign images, (num examples, width, height, channels).\n",
    "- `'labels'` is a 1D array containing the label/class id of the traffic sign. The file `signnames.csv` contains id -> name mappings for each id.\n",
    "- `'sizes'` is a list containing tuples, (width, height) representing the original width and height the image.\n",
    "- `'coords'` is a list containing tuples, (x1, y1, x2, y2) representing coordinates of a bounding box around the sign in the image. **THESE COORDINATES ASSUME THE ORIGINAL IMAGE. THE PICKLED DATA CONTAINS RESIZED VERSIONS (32 by 32) OF THESE IMAGES**\n",
    "\n",
    "Complete the basic data summary below. Use python, numpy and/or pandas methods to calculate the data summary rather than hard coding the results. For example, the [pandas shape method](http://pandas.pydata.org/pandas-docs/stable/generated/pandas.DataFrame.shape.html) might be useful for calculating some of the summary results. "
   ]
  },
  {
   "cell_type": "markdown",
   "metadata": {},
   "source": [
    "### Provide a Basic Summary of the Data Set Using Python, Numpy and/or Pandas"
   ]
  },
  {
   "cell_type": "code",
   "execution_count": 65,
   "metadata": {},
   "outputs": [],
   "source": [
    "### Dataset summary\n",
    "\n",
    "# Number of training examples\n",
    "n_train = len(X_train)\n",
    "\n",
    "# Number of validation examples\n",
    "n_validation = len(X_valid)\n",
    "\n",
    "# Number of testing examples.\n",
    "n_test = len(X_test)\n",
    "\n",
    "# Shape of input image\n",
    "image_shape = X_train[0].shape\n",
    "\n"
   ]
  },
  {
   "cell_type": "markdown",
   "metadata": {},
   "source": [
    "### Include an exploratory visualization of the dataset"
   ]
  },
  {
   "cell_type": "markdown",
   "metadata": {},
   "source": [
    "Visualize the German Traffic Signs Dataset using the pickled file(s). This is open ended, suggestions include: plotting traffic sign images, plotting the count of each sign, etc. \n",
    "\n",
    "The [Matplotlib](http://matplotlib.org/) [examples](http://matplotlib.org/examples/index.html) and [gallery](http://matplotlib.org/gallery.html) pages are a great resource for doing visualizations in Python.\n",
    "\n",
    "**NOTE:** It's recommended you start with something simple first. If you wish to do more, come back to it after you've completed the rest of the sections. It can be interesting to look at the distribution of classes in the training, validation and test set. Is the distribution the same? Are there more examples of some classes than others?"
   ]
  },
  {
   "cell_type": "code",
   "execution_count": 66,
   "metadata": {},
   "outputs": [
    {
     "name": "stdout",
     "output_type": "stream",
     "text": [
      "Number of training examples   = 31367(80.0%)\n",
      "Number of validation examples = 7842(20.0%)\n",
      "Number of testing examples    = 12630\n",
      "Input Image data shape        = (32, 32, 3)\n",
      "Number of classes             = 43\n"
     ]
    },
    {
     "data": {
      "image/png": "[encoded data removed]",
      "text/plain": [
       "<matplotlib.figure.Figure at 0x7f5a9cb649b0>"
      ]
     },
     "metadata": {
      "needs_background": "light"
     },
     "output_type": "display_data"
    },
    {
     "data": {
      "image/png": "[encoded data removed]",
      "text/plain": [
       "<matplotlib.figure.Figure at 0x7f5a9d200080>"
      ]
     },
     "metadata": {
      "needs_background": "light"
     },
     "output_type": "display_data"
    }
   ],
   "source": [
    "\n",
    "import matplotlib.pyplot as plt\n",
    "import random\n",
    "import numpy as np\n",
    "from scipy import ndimage\n",
    "# Visualizations will be shown in the notebook.\n",
    "%matplotlib inline\n",
    "\n",
    "# Count the number of classes in the dataset\n",
    "with open('signnames.csv', mode='r') as csv_file:\n",
    "    csv_reader = csv.DictReader(csv_file)\n",
    "    count = 0\n",
    "    for row in csv_reader:\n",
    "        count=count+1;\n",
    "n_classes = count\n",
    "\n",
    "print(\"Number of training examples   = {}({}%)\".format(n_train,np.ceil(n_train*100/(n_validation+n_train))))\n",
    "print(\"Number of validation examples = {}({}%)\".format(n_validation,np.floor(n_validation*100/(n_validation+n_train))))\n",
    "print(\"Number of testing examples    =\", n_test)\n",
    "print(\"Input Image data shape        =\", image_shape)\n",
    "print(\"Number of classes             =\", n_classes)\n",
    "\n",
    "# Plot the distribution of classes in the training set\n",
    "plt.hist(y_train, n_classes)\n",
    "plt.title(\"Distribution of training set\")\n",
    "plt.xlabel(\"Class ID\")\n",
    "plt.ylabel(\"Count\")\n",
    "plt.show()\n",
    "\n",
    "# Plot the distribution of classes in the validation set\n",
    "plt.hist(y_valid, n_classes)\n",
    "plt.title(\"Distribution of validation set\")\n",
    "plt.xlabel(\"Class ID\")\n",
    "plt.ylabel(\"Count\")\n",
    "plt.show()\n",
    "\n",
    "\n",
    "\n",
    "\n"
   ]
  },
  {
   "cell_type": "markdown",
   "metadata": {},
   "source": [
    "----\n",
    "\n",
    "## Step 2: Design and Test a Model Architecture\n",
    "\n",
    "Design and implement a deep learning model that learns to recognize traffic signs. Train and test your model on the [German Traffic Sign Dataset](http://benchmark.ini.rub.de/?section=gtsrb&subsection=dataset).\n",
    "\n",
    "The LeNet-5 implementation shown in the [classroom](https://classroom.udacity.com/nanodegrees/nd013/parts/fbf77062-5703-404e-b60c-95b78b2f3f9e/modules/6df7ae49-c61c-4bb2-a23e-6527e69209ec/lessons/601ae704-1035-4287-8b11-e2c2716217ad/concepts/d4aca031-508f-4e0b-b493-e7b706120f81) at the end of the CNN lesson is a solid starting point. You'll have to change the number of classes and possibly the preprocessing, but aside from that it's plug and play! \n",
    "\n",
    "With the LeNet-5 solution from the lecture, you should expect a validation set accuracy of about 0.89. To meet specifications, the validation set accuracy will need to be at least 0.93. It is possible to get an even higher accuracy, but 0.93 is the minimum for a successful project submission. \n",
    "\n",
    "There are various aspects to consider when thinking about this problem:\n",
    "\n",
    "- Neural network architecture (is the network over or underfitting?)\n",
    "- Play around preprocessing techniques (normalization, rgb to grayscale, etc)\n",
    "- Number of examples per label (some have more than others).\n",
    "- Generate fake data.\n",
    "\n",
    "Here is an example of a [published baseline model on this problem](http://yann.lecun.com/exdb/publis/pdf/sermanet-ijcnn-11.pdf). It's not required to be familiar with the approach used in the paper but, it's good practice to try to read papers like these."
   ]
  },
  {
   "cell_type": "markdown",
   "metadata": {},
   "source": [
    "### Pre-process the Data Set (normalization, grayscale, etc.)"
   ]
  },
  {
   "cell_type": "markdown",
   "metadata": {},
   "source": [
    "Minimally, the image data should be normalized so that the data has mean zero and equal variance. For image data, `(pixel - 128)/ 128` is a quick way to approximately normalize the data and can be used in this project. \n",
    "\n",
    "Other pre-processing steps are optional. You can try different techniques to see if it improves performance. \n",
    "\n",
    "Use the code cell (or multiple code cells, if necessary) to implement the first step of your project."
   ]
  },
  {
   "cell_type": "code",
   "execution_count": 67,
   "metadata": {},
   "outputs": [],
   "source": [
    "### Preprocess the data here. It is required to normalize the data. Other preprocessing steps could include \n",
    "### converting to grayscale, etc.\n",
    "### Feel free to use as many code cells as needed.\n",
    "import cv2\n",
    "from numpy import newaxis\n",
    "\n",
    "# RGB to Gray scale conversion\n",
    "def rgb2gray(image):\n",
    "  \n",
    "    gray = cv2.cvtColor(image, cv2.COLOR_RGB2GRAY)\n",
    "    return (gray)\n",
    "\n",
    "# Normalize the image\n",
    "def normalize(x):\n",
    "   \n",
    "    return ((x.astype(float) -128.0) / 128.0)\n",
    "\n",
    "\n",
    "\n",
    "# Preprocess the inputs\n",
    "def preprocess(n_train,n_validation,X_train,X_valid,y_train,y_valid,convert2gray):\n",
    "    \n",
    "       \n",
    "    if(convert2gray):\n",
    "        X_train_g=np.zeros((n_train,32,32,1),dtype=float)\n",
    "        X_valid_g=np.zeros((n_validation,32,32,1),dtype=float)\n",
    "        # RGB TO GRAY\n",
    "        for n in range(n_train):\n",
    "            A = rgb2gray(X_train[n])\n",
    "            X_train_g[n] = A[:,:,newaxis];\n",
    "\n",
    "        for n in range(n_validation):\n",
    "            B = rgb2gray(X_valid[n]);\n",
    "            X_valid_g[n] = B[:,:,newaxis];\n",
    "\n",
    "        X_train_g = X_train_g.astype(float)\n",
    "        X_valid_g = X_valid_g.astype(float)\n",
    "        y_train = y_train.astype(float)\n",
    "        y_valid = y_valid.astype(float)\n",
    "        # Normalize training and validation data\n",
    "        for n in range(n_train):\n",
    "            X_train_g[n] = normalize(X_train_g[n]).astype(float);\n",
    "\n",
    "        for n in range(n_validation):\n",
    "            X_valid_g[n] = normalize(X_valid_g[n]).astype(float);\n",
    "        \n",
    "        return X_train_g,X_valid_g,y_train,y_valid\n",
    "    \n",
    "    else:\n",
    "        X_train = X_train.astype(float)\n",
    "        X_valid = X_valid.astype(float)\n",
    "        y_train = y_train.astype(float)\n",
    "        y_valid = y_valid.astype(float)\n",
    "        # Normalize training and validation data\n",
    "        for n in range(n_train):\n",
    "            X_train[n] = normalize(X_train[n]).astype(float);\n",
    "\n",
    "        for n in range(n_validation):\n",
    "            X_valid[n] = normalize(X_valid[n]).astype(float);\n",
    "       \n",
    "        return X_train,X_valid,y_train,y_valid\n",
    "\n",
    "\n",
    "X_T,X_V,y_train,y_valid = preprocess(n_train, n_validation,X_train,X_valid,y_train,y_valid,convert2gray=False)\n",
    "\n",
    "del X_train, X_valid\n",
    "X_train=X_T\n",
    "X_valid=X_V\n",
    "\n",
    "\n",
    "from sklearn.utils import shuffle\n",
    "# Shuffle training data\n",
    "X_train, y_train = shuffle(X_train, y_train)"
   ]
  },
  {
   "cell_type": "markdown",
   "metadata": {},
   "source": [
    "### Model Architecture"
   ]
  },
  {
   "cell_type": "code",
   "execution_count": 68,
   "metadata": {},
   "outputs": [],
   "source": [
    "### Define your architecture here.\n",
    "### Feel free to use as many code cells as needed.\n",
    "\n",
    "import tensorflow as tf\n",
    "\n",
    "EPOCHS = 10\n",
    "BATCH_SIZE = 128\n",
    "\n",
    "from tensorflow.contrib.layers import flatten\n",
    "\n",
    "dim=X_train.shape[3];\n",
    "\n",
    "# Convolution function\n",
    "def conv2d(x, W, b, strides=1):\n",
    "    x = tf.nn.conv2d(x, W, strides=[1, strides, strides, 1], padding='VALID')\n",
    "    x = tf.nn.bias_add(x, b)\n",
    "    return tf.nn.relu(x)\n",
    "\n",
    "# Pooling function\n",
    "def maxpool2d(x, k=2):\n",
    "    return tf.nn.max_pool(x,ksize=[1, k, k, 1],strides=[1, k, k, 1],padding='VALID')\n",
    "\n",
    "# LeNet Architecture\n",
    "def LeNet(x):    \n",
    "    # Arguments used for tf.truncated_normal, randomly defines variables for the weights and biases for each layer\n",
    "    mu = 0\n",
    "    sigma = 0.1\n",
    "    \n",
    "    \n",
    "    # TODO: Layer 1: Convolutional. Input = 32x32x1. Output = 28x28x6.\n",
    "    W=tf.Variable(tf.truncated_normal((5,5,dim,6),mean=mu,stddev=sigma))\n",
    "    b=tf.Variable(tf.zeros(6))\n",
    "    conv1 = conv2d(x, W, b)\n",
    "    conv1 = tf.nn.dropout(conv1, keep_prob)\n",
    "    # TODO: Pooling. Input = 28x28x6. Output = 14x14x6.\n",
    "    conv1 = maxpool2d(conv1, k=2)  \n",
    "    \n",
    "\n",
    "    # TODO: Layer 2: Convolutional. Output = 10x10x16.\n",
    "    W=tf.Variable(tf.truncated_normal((5,5,6,16),mean=mu,stddev=sigma))\n",
    "    b=tf.Variable(tf.zeros(16))\n",
    "    conv2 = conv2d(conv1, W, b)\n",
    "    conv2 = tf.nn.dropout(conv2, keep_prob)\n",
    "    # TODO: Pooling. Input = 10x10x16. Output = 5x5x16.\n",
    "    conv2 = maxpool2d(conv2, k=2) \n",
    "  \n",
    "    # TODO: Flatten. Input = 5x5x16. Output = 400.\n",
    "    f = flatten(conv2)\n",
    "    \n",
    "    # TODO: Layer 3: Fully Connected. Input = 400. Output = 120.\n",
    "    W=tf.Variable(tf.truncated_normal(shape=(400,120),mean=mu,stddev=sigma))\n",
    "    b=tf.Variable(tf.zeros(120))\n",
    "    f1 = tf.matmul(f,W)+b\n",
    "    # TODO: Activation.\n",
    "    f1=tf.nn.relu(f1)\n",
    "   \n",
    "\n",
    "     # TODO: Layer 4: Fully Connected. Input = 120. Output = 84.\n",
    "    W=tf.Variable(tf.truncated_normal(shape=(120,84),mean=mu,stddev=sigma))\n",
    "    b=tf.Variable(tf.zeros(84))\n",
    "    f2 = tf.matmul(f1,W)+b\n",
    "    # TODO: Activation.\n",
    "    f2=tf.nn.relu(f2)\n",
    "  \n",
    "\n",
    "    # TODO: Layer 5: Fully Connected. Input = 84. Output = 43.\n",
    "    W=tf.Variable(tf.truncated_normal(shape=(84,43),mean=mu,stddev=sigma))\n",
    "    b=tf.Variable(tf.zeros(43))\n",
    "    f3 = tf.matmul(f2,W)+b\n",
    "   \n",
    "    \n",
    "    \n",
    "    logits=f3\n",
    "    \n",
    "    return logits\n",
    "\n",
    "# Features and Labels\n",
    "# x is a placeholder for a batch of input images. y is a placeholder for a batch of output labels.\n",
    "\n",
    "x = tf.placeholder(tf.float32, (None, 32, 32, dim))\n",
    "y = tf.placeholder(tf.int32, (None))\n",
    "one_hot_y = tf.one_hot(y, 43)\n",
    "\n"
   ]
  },
  {
   "cell_type": "markdown",
   "metadata": {},
   "source": [
    "### Train, Validate and Test the Model"
   ]
  },
  {
   "cell_type": "markdown",
   "metadata": {},
   "source": [
    "A validation set can be used to assess how well the model is performing. A low accuracy on the training and validation\n",
    "sets imply underfitting. A high accuracy on the training set but low accuracy on the validation set implies overfitting."
   ]
  },
  {
   "cell_type": "code",
   "execution_count": 69,
   "metadata": {},
   "outputs": [
    {
     "name": "stdout",
     "output_type": "stream",
     "text": [
      "Training...\n",
      "\n",
      "EPOCH 1 ...\n",
      "Validation Accuracy = 0.765\n",
      "\n",
      "EPOCH 2 ...\n",
      "Validation Accuracy = 0.869\n",
      "\n",
      "EPOCH 3 ...\n",
      "Validation Accuracy = 0.919\n",
      "\n",
      "EPOCH 4 ...\n",
      "Validation Accuracy = 0.935\n",
      "\n",
      "EPOCH 5 ...\n",
      "Validation Accuracy = 0.956\n",
      "\n",
      "EPOCH 6 ...\n",
      "Validation Accuracy = 0.949\n",
      "\n",
      "EPOCH 7 ...\n",
      "Validation Accuracy = 0.970\n",
      "\n",
      "EPOCH 8 ...\n",
      "Validation Accuracy = 0.971\n",
      "\n",
      "EPOCH 9 ...\n",
      "Validation Accuracy = 0.972\n",
      "\n",
      "EPOCH 10 ...\n",
      "Validation Accuracy = 0.976\n",
      "\n",
      "Model saved\n"
     ]
    }
   ],
   "source": [
    "### Train your model here.\n",
    "### Calculate and report the accuracy on the training and validation set.\n",
    "### Once a final model architecture is selected, \n",
    "### the accuracy on the test set should be calculated and reported as well.\n",
    "### Feel free to use as many code cells as needed.\n",
    "\n",
    "# Create a training pipeline that uses the model to classify MNIST data\n",
    "rate = 0.001\n",
    "keep_prob = tf.placeholder(tf.float32) # probability to keep units\n",
    "logits = LeNet(x)\n",
    "\n",
    "cross_entropy = tf.nn.softmax_cross_entropy_with_logits(labels=one_hot_y, logits=logits)\n",
    "loss_operation = tf.reduce_mean(cross_entropy)\n",
    "optimizer = tf.train.AdamOptimizer(learning_rate = rate)\n",
    "training_operation = optimizer.minimize(loss_operation)\n",
    "\n",
    "correct_prediction = tf.equal(tf.argmax(logits, 1), tf.argmax(one_hot_y, 1))\n",
    "\n",
    "accuracy_operation = tf.reduce_mean(tf.cast(correct_prediction, tf.float32))\n",
    "saver = tf.train.Saver()\n",
    "\n",
    "# Module Evaluation\n",
    "\n",
    "def evaluate(X_data, y_data):\n",
    "    num_examples = len(X_data)\n",
    "    total_accuracy = 0\n",
    "    sess = tf.get_default_session()\n",
    "    for offset in range(0, num_examples, BATCH_SIZE):\n",
    "        batch_x, batch_y = X_data[offset:offset+BATCH_SIZE], y_data[offset:offset+BATCH_SIZE]\n",
    "        accuracy = sess.run(accuracy_operation, feed_dict={x: batch_x, y: batch_y,keep_prob:1.0})\n",
    "       \n",
    "        total_accuracy += (accuracy * len(batch_x))\n",
    "    return total_accuracy / num_examples\n",
    "\n",
    "## Train the Model\n",
    "# Run the training data through the training pipeline to train the model. \n",
    "# Before each epoch, shuffle the training set.\n",
    "# After each epoch, measure the accuracy of the validation set.\n",
    "\n",
    "with tf.Session() as sess:\n",
    "    sess.run(tf.global_variables_initializer())\n",
    "    num_examples = len(X_train)\n",
    "    \n",
    "    print(\"Training...\")\n",
    "    print()\n",
    "    for i in range(EPOCHS):\n",
    "        X_train, y_train = shuffle(X_train, y_train)\n",
    "        for offset in range(0, num_examples, BATCH_SIZE):\n",
    "            end = offset + BATCH_SIZE\n",
    "            batch_x, batch_y = X_train[offset:end], y_train[offset:end]\n",
    "            sess.run(training_operation, feed_dict={x: batch_x, y: batch_y,keep_prob:0.5})\n",
    "            \n",
    "        validation_accuracy = evaluate(X_valid, y_valid)\n",
    "        print(\"EPOCH {} ...\".format(i+1))\n",
    "        print(\"Validation Accuracy = {:.3f}\".format(validation_accuracy))\n",
    "        print()\n",
    "        \n",
    "    saver.save(sess, './lenet')\n",
    "    print(\"Model saved\")\n"
   ]
  },
  {
   "cell_type": "code",
   "execution_count": 70,
   "metadata": {},
   "outputs": [
    {
     "name": "stdout",
     "output_type": "stream",
     "text": [
      "INFO:tensorflow:Restoring parameters from ./lenet\n",
      "Test Accuracy = 0.884\n"
     ]
    }
   ],
   "source": [
    "with tf.Session() as sess:\n",
    "    saver.restore(sess, tf.train.latest_checkpoint('.'))\n",
    "\n",
    "    test_accuracy = evaluate(X_test, y_test)\n",
    "    print(\"Test Accuracy = {:.3f}\".format(test_accuracy))"
   ]
  },
  {
   "cell_type": "markdown",
   "metadata": {},
   "source": [
    "---\n",
    "\n",
    "## Step 3: Test a Model on New Images\n",
    "\n",
    "To give yourself more insight into how your model is working, download at least five pictures of German traffic signs from the web and use your model to predict the traffic sign type.\n",
    "\n",
    "You may find `signnames.csv` useful as it contains mappings from the class id (integer) to the actual sign name."
   ]
  },
  {
   "cell_type": "markdown",
   "metadata": {},
   "source": [
    "### Load and Output the Images"
   ]
  },
  {
   "cell_type": "code",
   "execution_count": 71,
   "metadata": {},
   "outputs": [
    {
     "data": {
      "image/png": "[encoded data removed]",
      "text/plain": [
       "<matplotlib.figure.Figure at 0x7f5a9cdadda0>"
      ]
     },
     "metadata": {
      "needs_background": "light"
     },
     "output_type": "display_data"
    },
    {
     "data": {
      "image/png": "[encoded data removed]",
      "text/plain": [
       "<matplotlib.figure.Figure at 0x7f5a2554c400>"
      ]
     },
     "metadata": {
      "needs_background": "light"
     },
     "output_type": "display_data"
    },
    {
     "data": {
      "image/png": "[encoded data removed]",
      "text/plain": [
       "<matplotlib.figure.Figure at 0x7f5a3e0c5e48>"
      ]
     },
     "metadata": {
      "needs_background": "light"
     },
     "output_type": "display_data"
    },
    {
     "data": {
      "image/png": "[encoded data removed]",
      "text/plain": [
       "<matplotlib.figure.Figure at 0x7f5a9df5e780>"
      ]
     },
     "metadata": {
      "needs_background": "light"
     },
     "output_type": "display_data"
    },
    {
     "data": {
      "image/png": "[encoded data removed]",
      "text/plain": [
       "<matplotlib.figure.Figure at 0x7f5a256382b0>"
      ]
     },
     "metadata": {
      "needs_background": "light"
     },
     "output_type": "display_data"
    },
    {
     "data": {
      "image/png": "[encoded data removed]",
      "text/plain": [
       "<matplotlib.figure.Figure at 0x7f5a3e3364e0>"
      ]
     },
     "metadata": {
      "needs_background": "light"
     },
     "output_type": "display_data"
    }
   ],
   "source": [
    "### Load the images and plot them here.\n",
    "### Feel free to use as many code cells as needed.\n",
    "\n",
    "import glob, os\n",
    "img_dir = \"./Test_images/\" # Enter Directory of all images \n",
    "data_path = os.path.join(img_dir,'*g')\n",
    "files = glob.glob(data_path)\n",
    "\n",
    "XX_test=np.zeros((0,32,32,3),dtype='uint8')\n",
    "for f1 in files:\n",
    "    plt.figure();\n",
    "    img = cv2.imread(f1)\n",
    "    img = cv2.cvtColor(img, cv2.COLOR_BGR2RGB)\n",
    "    img=cv2.resize(img,(32,32))\n",
    "    Image=img[newaxis,:,:,:];\n",
    "    XX_test = np.concatenate((XX_test,Image), axis=0);\n",
    "    plt.imshow(img)\n",
    "\n",
    "yy_test=np.array([25,14,26,0,35,22],dtype='uint8')\n"
   ]
  },
  {
   "cell_type": "markdown",
   "metadata": {},
   "source": [
    "### Predict the Sign Type for Each Image"
   ]
  },
  {
   "cell_type": "code",
   "execution_count": 72,
   "metadata": {},
   "outputs": [],
   "source": [
    "### Run the predictions here and use the model to output the prediction for each image.\n",
    "### Make sure to pre-process the images with the same pre-processing pipeline used earlier.\n",
    "### Feel free to use as many code cells as needed.\n",
    "\n",
    "def rgb2gray(image):\n",
    "   \n",
    "    gray = cv2.cvtColor(image, cv2.COLOR_RGB2GRAY)\n",
    "    return (gray)\n",
    "\n",
    "def normalize(x):\n",
    "   \n",
    "    return ((x.astype(float) -128.0) / 128.0)\n",
    "\n",
    "def preprocess_test(n_test,XX_test,convert2gray):\n",
    "      \n",
    "    if(convert2gray):\n",
    "        XX_test_g=np.zeros((n_test,32,32,1),dtype=float)\n",
    "       \n",
    "        # RGB TO GRAY\n",
    "        for n in range(n_test):\n",
    "            A = rgb2gray(XX_test[n])\n",
    "            \n",
    "            XX_test_g[n] = A[:,:,newaxis];\n",
    "           \n",
    "\n",
    "       \n",
    "        XX_test_g = XX_test_g.astype(float)\n",
    "        \n",
    "        # Normalize training and validation data\n",
    "        for n in range(n_test):\n",
    "            XX_test_g[n] = normalize(XX_test_g[n]).astype(float);\n",
    "\n",
    "        return XX_test_g\n",
    "    \n",
    "    else:\n",
    "       \n",
    "        XX_test = XX_test.astype(float)\n",
    "       \n",
    "       # Normalize training and validation data\n",
    "        for n in range(n_test):\n",
    "            XX_test[n] = normalize(XX_test[n]).astype(float);\n",
    "\n",
    "        return XX_test\n",
    "       \n",
    "\n",
    "XX_T= preprocess_test(6, XX_test,convert2gray=False)\n",
    "del XX_test\n",
    "XX_test=XX_T\n"
   ]
  },
  {
   "cell_type": "markdown",
   "metadata": {},
   "source": [
    "### Analyze Performance"
   ]
  },
  {
   "cell_type": "code",
   "execution_count": 73,
   "metadata": {},
   "outputs": [
    {
     "name": "stdout",
     "output_type": "stream",
     "text": [
      "INFO:tensorflow:Restoring parameters from ./lenet\n",
      "Test Accuracy = 1.0\n"
     ]
    }
   ],
   "source": [
    "### Calculate the accuracy for these 5 new images. \n",
    "### For example, if the model predicted 1 out of 5 signs correctly, it's 20% accurate on these new images.\n",
    "BATCH_SIZE=1\n",
    "with open('signnames.csv', mode='r') as csv_file:\n",
    "    reader = csv.DictReader(csv_file)\n",
    "    Dict={}\n",
    "    for row in reader:\n",
    "        Dict[row[\"ClassId\"]]=row[\"SignName\"]\n",
    "        \n",
    "def evaluate_user(X_data, y_data):\n",
    "    num_examples = len(X_data)\n",
    "    total_accuracy = 0\n",
    "    sess = tf.get_default_session()\n",
    "    for offset in range(0, num_examples, BATCH_SIZE):\n",
    "        batch_x, batch_y = X_data[offset:offset+BATCH_SIZE], y_data[offset:offset+BATCH_SIZE]\n",
    "        A,accuracy,B = sess.run([logits,accuracy_operation,one_hot_y], feed_dict={x: batch_x, y: batch_y,keep_prob:1.0})\n",
    "        total_accuracy += (accuracy * len(batch_x))\n",
    "        \n",
    "    return (total_accuracy / num_examples)\n",
    "\n",
    "with tf.Session() as sess:\n",
    "    saver.restore(sess, tf.train.latest_checkpoint('.'))\n",
    "    \n",
    "    test_accuracy= evaluate_user(XX_test, yy_test)\n",
    "    print(\"Test Accuracy = {:.1f}\".format(test_accuracy))"
   ]
  },
  {
   "cell_type": "markdown",
   "metadata": {},
   "source": [
    "### Output Top 5 Softmax Probabilities For Each Image Found on the Web"
   ]
  },
  {
   "cell_type": "markdown",
   "metadata": {},
   "source": [
    "For each of the new images, print out the model's softmax probabilities to show the **certainty** of the model's predictions (limit the output to the top 5 probabilities for each image). [`tf.nn.top_k`](https://www.tensorflow.org/versions/r0.12/api_docs/python/nn.html#top_k) could prove helpful here. \n",
    "\n",
    "The example below demonstrates how tf.nn.top_k can be used to find the top k predictions for each image.\n",
    "\n",
    "`tf.nn.top_k` will return the values and indices (class ids) of the top k predictions. So if k=3, for each sign, it'll return the 3 largest probabilities (out of a possible 43) and the correspoding class ids.\n",
    "\n",
    "Take this numpy array as an example. The values in the array represent predictions. The array contains softmax probabilities for five candidate images with six possible classes. `tf.nn.top_k` is used to choose the three classes with the highest probability:\n",
    "\n",
    "```\n",
    "# (5, 6) array\n",
    "a = np.array([[ 0.24879643,  0.07032244,  0.12641572,  0.34763842,  0.07893497,\n",
    "         0.12789202],\n",
    "       [ 0.28086119,  0.27569815,  0.08594638,  0.0178669 ,  0.18063401,\n",
    "         0.15899337],\n",
    "       [ 0.26076848,  0.23664738,  0.08020603,  0.07001922,  0.1134371 ,\n",
    "         0.23892179],\n",
    "       [ 0.11943333,  0.29198961,  0.02605103,  0.26234032,  0.1351348 ,\n",
    "         0.16505091],\n",
    "       [ 0.09561176,  0.34396535,  0.0643941 ,  0.16240774,  0.24206137,\n",
    "         0.09155967]])\n",
    "```\n",
    "\n",
    "Running it through `sess.run(tf.nn.top_k(tf.constant(a), k=3))` produces:\n",
    "\n",
    "```\n",
    "TopKV2(values=array([[ 0.34763842,  0.24879643,  0.12789202],\n",
    "       [ 0.28086119,  0.27569815,  0.18063401],\n",
    "       [ 0.26076848,  0.23892179,  0.23664738],\n",
    "       [ 0.29198961,  0.26234032,  0.16505091],\n",
    "       [ 0.34396535,  0.24206137,  0.16240774]]), indices=array([[3, 0, 5],\n",
    "       [0, 1, 4],\n",
    "       [0, 5, 1],\n",
    "       [1, 3, 5],\n",
    "       [1, 4, 3]], dtype=int32))\n",
    "```\n",
    "\n",
    "Looking just at the first row we get `[ 0.34763842,  0.24879643,  0.12789202]`, you can confirm these are the 3 largest probabilities in `a`. You'll also notice `[3, 0, 5]` are the corresponding indices."
   ]
  },
  {
   "cell_type": "code",
   "execution_count": 74,
   "metadata": {},
   "outputs": [
    {
     "name": "stdout",
     "output_type": "stream",
     "text": [
      "INFO:tensorflow:Restoring parameters from ./lenet\n",
      "Sign input: Road work\n",
      "=============================\n",
      "Test classifier output (Soft Max Probabilities):\n",
      "Class: Road work, Probability: 1.000\n",
      "\n",
      "Class: Wild animals crossing, Probability: 0.000\n",
      "\n",
      "Class: Speed limit (80km/h), Probability: 0.000\n",
      "\n",
      "Class: Double curve, Probability: 0.000\n",
      "\n",
      "Class: Dangerous curve to the left, Probability: 0.000\n",
      "\n",
      "Sign input: Stop\n",
      "=============================\n",
      "Test classifier output (Soft Max Probabilities):\n",
      "Class: Stop, Probability: 0.609\n",
      "\n",
      "Class: Wild animals crossing, Probability: 0.314\n",
      "\n",
      "Class: Bicycles crossing, Probability: 0.037\n",
      "\n",
      "Class: Road work, Probability: 0.026\n",
      "\n",
      "Class: No passing for vehicles over 3.5 metric tons, Probability: 0.008\n",
      "\n",
      "Sign input: Traffic signals\n",
      "=============================\n",
      "Test classifier output (Soft Max Probabilities):\n",
      "Class: Traffic signals, Probability: 0.806\n",
      "\n",
      "Class: General caution, Probability: 0.194\n",
      "\n",
      "Class: Pedestrians, Probability: 0.000\n",
      "\n",
      "Class: Right-of-way at the next intersection, Probability: 0.000\n",
      "\n",
      "Class: Road narrows on the right, Probability: 0.000\n",
      "\n",
      "Sign input: Speed limit (20km/h)\n",
      "=============================\n",
      "Test classifier output (Soft Max Probabilities):\n",
      "Class: Speed limit (20km/h), Probability: 0.932\n",
      "\n",
      "Class: Speed limit (30km/h), Probability: 0.051\n",
      "\n",
      "Class: Dangerous curve to the right, Probability: 0.012\n",
      "\n",
      "Class: Children crossing, Probability: 0.001\n",
      "\n",
      "Class: End of all speed and passing limits, Probability: 0.001\n",
      "\n",
      "Sign input: Ahead only\n",
      "=============================\n",
      "Test classifier output (Soft Max Probabilities):\n",
      "Class: Ahead only, Probability: 1.000\n",
      "\n",
      "Class: Turn left ahead, Probability: 0.000\n",
      "\n",
      "Class: Keep right, Probability: 0.000\n",
      "\n",
      "Class: Roundabout mandatory, Probability: 0.000\n",
      "\n",
      "Class: Go straight or right, Probability: 0.000\n",
      "\n",
      "Sign input: Bumpy road\n",
      "=============================\n",
      "Test classifier output (Soft Max Probabilities):\n",
      "Class: Bumpy road, Probability: 0.999\n",
      "\n",
      "Class: Bicycles crossing, Probability: 0.001\n",
      "\n",
      "Class: Road work, Probability: 0.000\n",
      "\n",
      "Class: Road narrows on the right, Probability: 0.000\n",
      "\n",
      "Class: No vehicles, Probability: 0.000\n",
      "\n",
      "Test Accuracy = 1.0\n"
     ]
    }
   ],
   "source": [
    "### Print out the top five softmax probabilities for the predictions on the German traffic sign images found on the web. \n",
    "### Feel free to use as many code cells as needed.\n",
    "\n",
    "def softmaxlist(X_data, y_data):\n",
    "    num_examples = len(X_data)\n",
    "    total_accuracy = 0\n",
    "    sess = tf.get_default_session()\n",
    "    for offset in range(0, num_examples, BATCH_SIZE):\n",
    "        batch_x, batch_y = X_data[offset:offset+BATCH_SIZE], y_data[offset:offset+BATCH_SIZE]\n",
    "        A,accuracy,B = sess.run([logits,accuracy_operation,one_hot_y], feed_dict={x: batch_x, y: batch_y,keep_prob:1.0})\n",
    "        A=sess.run(tf.nn.softmax(A))\n",
    "        \n",
    "        TopKV=sess.run(tf.nn.top_k(tf.constant(A), k=5))\n",
    "        scores=TopKV[0]\n",
    "        indices=TopKV[1]\n",
    "        \n",
    "        print(\"Sign input: {}\".format(Dict[str(batch_y[0])]))\n",
    "        print(\"=============================\")\n",
    "        print(\"Test classifier output (Soft Max Probabilities):\")\n",
    "        for i in range(5):\n",
    "            print(\"Class: {}, Probability: {:.3f}\".format(Dict[str(indices[0][i])],scores[0][i]))\n",
    "            print()\n",
    "        \n",
    "        total_accuracy += (accuracy * len(batch_x))\n",
    "        \n",
    "    return (total_accuracy / num_examples)\n",
    "\n",
    "with tf.Session() as sess:\n",
    "    saver.restore(sess, tf.train.latest_checkpoint('.'))\n",
    "    \n",
    "    test_accuracy= softmaxlist(XX_test, yy_test)\n",
    "    print(\"Test Accuracy = {:.1f}\".format(test_accuracy))\n"
   ]
  },
  {
   "cell_type": "markdown",
   "metadata": {},
   "source": [
    "### Project Writeup\n",
    "\n",
    "Once you have completed the code implementation, document your results in a project writeup using this [template](https://github.com/udacity/CarND-Traffic-Sign-Classifier-Project/blob/master/writeup_template.md) as a guide. The writeup can be in a markdown or pdf file. "
   ]
  },
  {
   "cell_type": "markdown",
   "metadata": {},
   "source": [
    "> **Note**: Once you have completed all of the code implementations and successfully answered each question above, you may finalize your work by exporting the iPython Notebook as an HTML document. You can do this by using the menu above and navigating to  \\n\",\n",
    "    \"**File -> Download as -> HTML (.html)**. Include the finished document along with this notebook as your submission."
   ]
  },
  {
   "cell_type": "markdown",
   "metadata": {},
   "source": [
    "---\n",
    "\n",
    "## Step 4 (Optional): Visualize the Neural Network's State with Test Images\n",
    "\n",
    " This Section is not required to complete but acts as an additional excersise for understaning the output of a neural network's weights. While neural networks can be a great learning device they are often referred to as a black box. We can understand what the weights of a neural network look like better by plotting their feature maps. After successfully training your neural network you can see what it's feature maps look like by plotting the output of the network's weight layers in response to a test stimuli image. From these plotted feature maps, it's possible to see what characteristics of an image the network finds interesting. For a sign, maybe the inner network feature maps react with high activation to the sign's boundary outline or to the contrast in the sign's painted symbol.\n",
    "\n",
    " Provided for you below is the function code that allows you to get the visualization output of any tensorflow weight layer you want. The inputs to the function should be a stimuli image, one used during training or a new one you provided, and then the tensorflow variable name that represents the layer's state during the training process, for instance if you wanted to see what the [LeNet lab's](https://classroom.udacity.com/nanodegrees/nd013/parts/fbf77062-5703-404e-b60c-95b78b2f3f9e/modules/6df7ae49-c61c-4bb2-a23e-6527e69209ec/lessons/601ae704-1035-4287-8b11-e2c2716217ad/concepts/d4aca031-508f-4e0b-b493-e7b706120f81) feature maps looked like for it's second convolutional layer you could enter conv2 as the tf_activation variable.\n",
    "\n",
    "For an example of what feature map outputs look like, check out NVIDIA's results in their paper [End-to-End Deep Learning for Self-Driving Cars](https://devblogs.nvidia.com/parallelforall/deep-learning-self-driving-cars/) in the section Visualization of internal CNN State. NVIDIA was able to show that their network's inner weights had high activations to road boundary lines by comparing feature maps from an image with a clear path to one without. Try experimenting with a similar test to show that your trained network's weights are looking for interesting features, whether it's looking at differences in feature maps from images with or without a sign, or even what feature maps look like in a trained network vs a completely untrained one on the same sign image.\n",
    "\n",
    "<figure>\n",
    " <img src=\"visualize_cnn.png\" width=\"380\" alt=\"Combined Image\" />\n",
    " <figcaption>\n",
    " <p></p> \n",
    " <p style=\"text-align: center;\"> Your output should look something like this (above)</p> \n",
    " </figcaption>\n",
    "</figure>\n",
    " <p></p> \n"
   ]
  },
  {
   "cell_type": "code",
   "execution_count": 14,
   "metadata": {},
   "outputs": [],
   "source": [
    "### Visualize your network's feature maps here.\n",
    "### Feel free to use as many code cells as needed.\n",
    "\n",
    "# image_input: the test image being fed into the network to produce the feature maps\n",
    "# tf_activation: should be a tf variable name used during your training procedure that represents the calculated state of a specific weight layer\n",
    "# activation_min/max: can be used to view the activation contrast in more detail, by default matplot sets min and max to the actual min and max values of the output\n",
    "# plt_num: used to plot out multiple different weight feature map sets on the same block, just extend the plt number for each new feature map entry\n",
    "\n",
    "def outputFeatureMap(image_input, tf_activation, activation_min=-1, activation_max=-1 ,plt_num=1):\n",
    "    # Here make sure to preprocess your image_input in a way your network expects\n",
    "    # with size, normalization, ect if needed\n",
    "    # image_input =\n",
    "    # Note: x should be the same name as your network's tensorflow data placeholder variable\n",
    "    # If you get an error tf_activation is not defined it may be having trouble accessing the variable from inside a function\n",
    "    activation = tf_activation.eval(session=sess,feed_dict={x : image_input})\n",
    "    featuremaps = activation.shape[3]\n",
    "    plt.figure(plt_num, figsize=(15,15))\n",
    "    for featuremap in range(featuremaps):\n",
    "        plt.subplot(6,8, featuremap+1) # sets the number of feature maps to show on each row and column\n",
    "        plt.title('FeatureMap ' + str(featuremap)) # displays the feature map number\n",
    "        if activation_min != -1 & activation_max != -1:\n",
    "            plt.imshow(activation[0,:,:, featuremap], interpolation=\"nearest\", vmin =activation_min, vmax=activation_max, cmap=\"gray\")\n",
    "        elif activation_max != -1:\n",
    "            plt.imshow(activation[0,:,:, featuremap], interpolation=\"nearest\", vmax=activation_max, cmap=\"gray\")\n",
    "        elif activation_min !=-1:\n",
    "            plt.imshow(activation[0,:,:, featuremap], interpolation=\"nearest\", vmin=activation_min, cmap=\"gray\")\n",
    "        else:\n",
    "            plt.imshow(activation[0,:,:, featuremap], interpolation=\"nearest\", cmap=\"gray\")"
   ]
  },
  {
   "cell_type": "code",
   "execution_count": null,
   "metadata": {},
   "outputs": [],
   "source": []
  }
 ],
 "metadata": {
  "anaconda-cloud": {},
  "kernelspec": {
   "display_name": "Python 3",
   "language": "python",
   "name": "python3"
  },
  "language_info": {
   "codemirror_mode": {
    "name": "ipython",
    "version": 3
   },
   "file_extension": ".py",
   "mimetype": "text/x-python",
   "name": "python",
   "nbconvert_exporter": "python",
   "pygments_lexer": "ipython3",
   "version": "3.6.3"
  }
 },
 "nbformat": 4,
 "nbformat_minor": 1
}
